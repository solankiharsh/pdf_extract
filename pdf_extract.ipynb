{
  "nbformat": 4,
  "nbformat_minor": 0,
  "metadata": {
    "colab": {
      "name": "pdf_extract.ipynb",
      "provenance": [],
      "authorship_tag": "ABX9TyONYvpRKr7/EI8o3PS9rjES",
      "include_colab_link": true
    },
    "kernelspec": {
      "name": "python3",
      "display_name": "Python 3"
    }
  },
  "cells": [
    {
      "cell_type": "markdown",
      "metadata": {
        "id": "view-in-github",
        "colab_type": "text"
      },
      "source": [
        "<a href=\"https://colab.research.google.com/github/solankiharsh/pdf_extract/blob/master/pdf_extract.ipynb\" target=\"_parent\"><img src=\"https://colab.research.google.com/assets/colab-badge.svg\" alt=\"Open In Colab\"/></a>"
      ]
    },
    {
      "cell_type": "code",
      "metadata": {
        "id": "9UgrihNPTLYW",
        "colab_type": "code",
        "colab": {}
      },
      "source": [
        "invoice_url = 'http://www.k-billing.com/example_invoices/professionalredgreen_example.pdf'"
      ],
      "execution_count": 2,
      "outputs": []
    },
    {
      "cell_type": "code",
      "metadata": {
        "id": "ZlcETigyTb9J",
        "colab_type": "code",
        "colab": {
          "base_uri": "https://localhost:8080/",
          "height": 394
        },
        "outputId": "e158758a-716b-4d7e-ac68-34cc1da26362"
      },
      "source": [
        "!pip install pdfplumber"
      ],
      "execution_count": 4,
      "outputs": [
        {
          "output_type": "stream",
          "text": [
            "Collecting pdfplumber\n",
            "  Downloading https://files.pythonhosted.org/packages/2c/06/eb883f00ea3d78a2f860c593645498c39120f763d30b099cc98c4392b312/pdfplumber-0.5.23.tar.gz\n",
            "Collecting pdfminer.six==20200517\n",
            "\u001b[?25l  Downloading https://files.pythonhosted.org/packages/b0/c0/ef1c8758bbd86edb10b5443700aac97d0ba27a9ca2e7696db8cd1fdbd5a8/pdfminer.six-20200517-py3-none-any.whl (5.6MB)\n",
            "\u001b[K     |████████████████████████████████| 5.6MB 5.8MB/s \n",
            "\u001b[?25hRequirement already satisfied: Pillow>=7.0.0 in /usr/local/lib/python3.6/dist-packages (from pdfplumber) (7.0.0)\n",
            "Collecting Wand\n",
            "\u001b[?25l  Downloading https://files.pythonhosted.org/packages/82/e4/d00cdc270cad06a2dd2d3095ffe0f6541d69104db504c4e94de805e3c6e0/Wand-0.6.2-py2.py3-none-any.whl (130kB)\n",
            "\u001b[K     |████████████████████████████████| 133kB 30.3MB/s \n",
            "\u001b[?25hRequirement already satisfied: chardet; python_version > \"3.0\" in /usr/local/lib/python3.6/dist-packages (from pdfminer.six==20200517->pdfplumber) (3.0.4)\n",
            "Collecting pycryptodome\n",
            "\u001b[?25l  Downloading https://files.pythonhosted.org/packages/17/55/17fa0b55849dc135f7bc400993a9206bf06d1b5d9520b0bc8d47c57aaef5/pycryptodome-3.9.8-cp36-cp36m-manylinux1_x86_64.whl (13.7MB)\n",
            "\u001b[K     |████████████████████████████████| 13.7MB 297kB/s \n",
            "\u001b[?25hRequirement already satisfied: sortedcontainers in /usr/local/lib/python3.6/dist-packages (from pdfminer.six==20200517->pdfplumber) (2.2.2)\n",
            "Building wheels for collected packages: pdfplumber\n",
            "  Building wheel for pdfplumber (setup.py) ... \u001b[?25l\u001b[?25hdone\n",
            "  Created wheel for pdfplumber: filename=pdfplumber-0.5.23-cp36-none-any.whl size=29176 sha256=52a4084a0da8ae5bc21028b1e3b1a866d60563f71ebed4f586805a5fcd40464a\n",
            "  Stored in directory: /root/.cache/pip/wheels/f6/4d/ae/abb7b92fbed5d09a835c259f26d2a3223ea929a0ad6d322097\n",
            "Successfully built pdfplumber\n",
            "Installing collected packages: pycryptodome, pdfminer.six, Wand, pdfplumber\n",
            "Successfully installed Wand-0.6.2 pdfminer.six-20200517 pdfplumber-0.5.23 pycryptodome-3.9.8\n"
          ],
          "name": "stdout"
        }
      ]
    },
    {
      "cell_type": "code",
      "metadata": {
        "id": "qIRcg08-TUX-",
        "colab_type": "code",
        "colab": {}
      },
      "source": [
        "import requests\n",
        "import pdfplumber"
      ],
      "execution_count": 5,
      "outputs": []
    },
    {
      "cell_type": "code",
      "metadata": {
        "id": "gQvteCkFTZl5",
        "colab_type": "code",
        "colab": {}
      },
      "source": [
        "def download_pdf(url):\n",
        "  local_filename = url.split('/')[-1]\n",
        "\n",
        "  with requests.get(url) as r:\n",
        "    with open(local_filename, 'wb') as o:\n",
        "      o.write(r.content)\n",
        "\n",
        "    return local_filename"
      ],
      "execution_count": 9,
      "outputs": []
    },
    {
      "cell_type": "code",
      "metadata": {
        "id": "YbMSp9StT1fq",
        "colab_type": "code",
        "colab": {}
      },
      "source": [
        "invoice = download_pdf(invoice_url)"
      ],
      "execution_count": 10,
      "outputs": []
    },
    {
      "cell_type": "code",
      "metadata": {
        "id": "Y329rCVJUF9H",
        "colab_type": "code",
        "colab": {
          "base_uri": "https://localhost:8080/",
          "height": 442
        },
        "outputId": "a3e7d06a-5c38-44f7-8506-e855451dda63"
      },
      "source": [
        "with pdfplumber.open(invoice) as pdf:\n",
        "  page = pdf.pages[0]\n",
        "  text = page.extract_text()\n",
        "print(text)"
      ],
      "execution_count": 13,
      "outputs": [
        {
          "output_type": "stream",
          "text": [
            "Demo Company\n",
            "INVOICE\n",
            "Invoice Summary\n",
            "Demo Company Phone : 111-222-3333\n",
            "1234 Main Street E-Mail : 333-444-4444 Invoice No. I1083\n",
            "Ashland, KY 41102 Web : http://www.ksoftware.net Account # C1006\n",
            "Date 08-14-2008\n",
            "Due By 08-31-2008\n",
            "Terms None\n",
            "PO No. PO1234\n",
            "Sales Rep SalesPerson1\n",
            "Bill To Ship To\n",
            "Test Customer Test Customer\n",
            "1234 Main Street 1234 Main Street\n",
            "Ashland, KY 41101 Ashland,  41101\n",
            "Code Description QTY Price Line Total\n",
            "SKU1222 Test Import Name - Description Goes Here 1 $10.00 $10.00\n",
            "Labor - Example labor item. Quantity is number of hours spent,  1.5 $100.00 $150.00\n",
            "price is hourly rate. Quantity accepts decimal values.\n",
            "Subtotal $160.00\n",
            "Shipping $10.00 Tax $0.78\n",
            "UPS Ground Total $170.78\n",
            "Payments (-) $0.00\n",
            "Balance Due $170.78\n",
            "An invoice note can go here. Multi-line and even multi-page notes are supported.\n"
          ],
          "name": "stdout"
        }
      ]
    },
    {
      "cell_type": "code",
      "metadata": {
        "id": "Xes9DYWOUf2t",
        "colab_type": "code",
        "colab": {
          "base_uri": "https://localhost:8080/",
          "height": 34
        },
        "outputId": "5ec30d48-f7b3-44d2-91fc-904730a6f80b"
      },
      "source": [
        "for row in text.split('\\n'):\n",
        "  if row.startswith('UPS Ground Total'):\n",
        "    total_amount = row.split()[-1]\n",
        "    p = print(\"The total invoice amount is: \", total_amount)"
      ],
      "execution_count": 25,
      "outputs": [
        {
          "output_type": "stream",
          "text": [
            "The total invoice amount is:  $170.78\n"
          ],
          "name": "stdout"
        }
      ]
    },
    {
      "cell_type": "code",
      "metadata": {
        "id": "NeCfRBm1VLFe",
        "colab_type": "code",
        "colab": {}
      },
      "source": [
        ""
      ],
      "execution_count": null,
      "outputs": []
    }
  ]
}